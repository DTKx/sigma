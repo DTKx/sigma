{
 "metadata": {
  "language_info": {
   "codemirror_mode": {
    "name": "ipython",
    "version": 3
   },
   "file_extension": ".py",
   "mimetype": "text/x-python",
   "name": "python",
   "nbconvert_exporter": "python",
   "pygments_lexer": "ipython3",
   "version": "3.8.5"
  },
  "orig_nbformat": 2,
  "kernelspec": {
   "name": "python385jvsc74a57bd0cc6ed7719873d8158b0c063d0060642f4875ddcc4c66b08fe5cea1c2ef9b0b27",
   "display_name": "Python 3.8.5 64-bit ('sigma': conda)"
  }
 },
 "nbformat": 4,
 "nbformat_minor": 2,
 "cells": [
  {
   "source": [
    "# Notebook Parse Excel para formato dicionário\n",
    "Este notebook será utilizado para converter os arquivos em Excel Códigos CNAE IBGE para formato dicionário."
   ],
   "cell_type": "markdown",
   "metadata": {}
  },
  {
   "cell_type": "code",
   "execution_count": 1,
   "metadata": {},
   "outputs": [],
   "source": [
    "import pandas as pd\n",
    "import os\n",
    "pathDadosOriginais=(os.path.abspath(os.path.join(\"..\",\"dados\",\"originais\")))\n",
    "pathDadosProcessados=(os.path.abspath(os.path.join(\"..\",\"dados\",\"processados\")))"
   ]
  },
  {
   "cell_type": "code",
   "execution_count": 2,
   "metadata": {},
   "outputs": [],
   "source": [
    "import json,codecs\n",
    "def exportToJson(data,path):\n",
    "    with open(path, 'wb') as f:\n",
    "        json.dump(data,codecs.getwriter('utf-8')(f), ensure_ascii=False)"
   ]
  },
  {
   "cell_type": "code",
   "execution_count": null,
   "metadata": {},
   "outputs": [],
   "source": [
    "def readFile(filename):\n",
    "    lines = []\n",
    "    with open(filename, mode=\"r\") as f:\n",
    "        for line in f:\n",
    "            lines.append(line.replace(\"\\n\", \"\"))\n",
    "    return lines\n"
   ]
  },
  {
   "source": [
    "## Verifica tabela"
   ],
   "cell_type": "markdown",
   "metadata": {}
  },
  {
   "cell_type": "code",
   "execution_count": 14,
   "metadata": {},
   "outputs": [
    {
     "output_type": "execute_result",
     "data": {
      "text/plain": [
       "     2.2 - Estrutura detalhada da CNAE 2.0: Códigos e denominações Unnamed: 1  \\\n",
       "0                                                   NaN                   NaN   \n",
       "1                                                 Seção               Divisão   \n",
       "2                                                     A                   NaN   \n",
       "3                                                   NaN                    01   \n",
       "4                                                   NaN                   NaN   \n",
       "...                                                 ...                   ...   \n",
       "1143                                                NaN                    99   \n",
       "1144                                                NaN                   NaN   \n",
       "1145                                                NaN                   NaN   \n",
       "1146                                                NaN                   NaN   \n",
       "1147  Resoluções Concla: 01/2006 de 04/09/2006; 02/2...                   NaN   \n",
       "\n",
       "     Unnamed: 2 Unnamed: 3                                         Unnamed: 4  \n",
       "0           NaN        NaN                                         (continua)  \n",
       "1         Grupo     Classe                                        Denominação  \n",
       "2           NaN        NaN  AGRICULTURA, PECUÁRIA, PRODUÇÃO FLORESTAL, PES...  \n",
       "3           NaN        NaN      AGRICULTURA, PECUÁRIA E SERVIÇOS RELACIONADOS  \n",
       "4          01.1        NaN                   Produção de lavouras temporárias  \n",
       "...         ...        ...                                                ...  \n",
       "1143        NaN        NaN  ORGANISMOS INTERNACIONAIS E OUTRAS INSTITUIÇÕE...  \n",
       "1144       99.0        NaN  Organismos internacionais e outras instituiçõe...  \n",
       "1145        NaN    99.00-8  Organismos internacionais e outras instituiçõe...  \n",
       "1146        NaN        NaN                                                NaN  \n",
       "1147        NaN        NaN                                                NaN  \n",
       "\n",
       "[1148 rows x 5 columns]"
      ],
      "text/html": "<div>\n<style scoped>\n    .dataframe tbody tr th:only-of-type {\n        vertical-align: middle;\n    }\n\n    .dataframe tbody tr th {\n        vertical-align: top;\n    }\n\n    .dataframe thead th {\n        text-align: right;\n    }\n</style>\n<table border=\"1\" class=\"dataframe\">\n  <thead>\n    <tr style=\"text-align: right;\">\n      <th></th>\n      <th>2.2 - Estrutura detalhada da CNAE 2.0: Códigos e denominações</th>\n      <th>Unnamed: 1</th>\n      <th>Unnamed: 2</th>\n      <th>Unnamed: 3</th>\n      <th>Unnamed: 4</th>\n    </tr>\n  </thead>\n  <tbody>\n    <tr>\n      <th>0</th>\n      <td>NaN</td>\n      <td>NaN</td>\n      <td>NaN</td>\n      <td>NaN</td>\n      <td>(continua)</td>\n    </tr>\n    <tr>\n      <th>1</th>\n      <td>Seção</td>\n      <td>Divisão</td>\n      <td>Grupo</td>\n      <td>Classe</td>\n      <td>Denominação</td>\n    </tr>\n    <tr>\n      <th>2</th>\n      <td>A</td>\n      <td>NaN</td>\n      <td>NaN</td>\n      <td>NaN</td>\n      <td>AGRICULTURA, PECUÁRIA, PRODUÇÃO FLORESTAL, PES...</td>\n    </tr>\n    <tr>\n      <th>3</th>\n      <td>NaN</td>\n      <td>01</td>\n      <td>NaN</td>\n      <td>NaN</td>\n      <td>AGRICULTURA, PECUÁRIA E SERVIÇOS RELACIONADOS</td>\n    </tr>\n    <tr>\n      <th>4</th>\n      <td>NaN</td>\n      <td>NaN</td>\n      <td>01.1</td>\n      <td>NaN</td>\n      <td>Produção de lavouras temporárias</td>\n    </tr>\n    <tr>\n      <th>...</th>\n      <td>...</td>\n      <td>...</td>\n      <td>...</td>\n      <td>...</td>\n      <td>...</td>\n    </tr>\n    <tr>\n      <th>1143</th>\n      <td>NaN</td>\n      <td>99</td>\n      <td>NaN</td>\n      <td>NaN</td>\n      <td>ORGANISMOS INTERNACIONAIS E OUTRAS INSTITUIÇÕE...</td>\n    </tr>\n    <tr>\n      <th>1144</th>\n      <td>NaN</td>\n      <td>NaN</td>\n      <td>99.0</td>\n      <td>NaN</td>\n      <td>Organismos internacionais e outras instituiçõe...</td>\n    </tr>\n    <tr>\n      <th>1145</th>\n      <td>NaN</td>\n      <td>NaN</td>\n      <td>NaN</td>\n      <td>99.00-8</td>\n      <td>Organismos internacionais e outras instituiçõe...</td>\n    </tr>\n    <tr>\n      <th>1146</th>\n      <td>NaN</td>\n      <td>NaN</td>\n      <td>NaN</td>\n      <td>NaN</td>\n      <td>NaN</td>\n    </tr>\n    <tr>\n      <th>1147</th>\n      <td>Resoluções Concla: 01/2006 de 04/09/2006; 02/2...</td>\n      <td>NaN</td>\n      <td>NaN</td>\n      <td>NaN</td>\n      <td>NaN</td>\n    </tr>\n  </tbody>\n</table>\n<p>1148 rows × 5 columns</p>\n</div>"
     },
     "metadata": {},
     "execution_count": 14
    }
   ],
   "source": [
    "table=pd.read_excel(os.path.join(pathDadosOriginais,'cnae','ibge','CNAE20_EstruturaDetalhada.xls'))\n",
    "table"
   ]
  },
  {
   "source": [
    "- Renomear colunas "
   ],
   "cell_type": "markdown",
   "metadata": {}
  },
  {
   "cell_type": "code",
   "execution_count": 37,
   "metadata": {},
   "outputs": [
    {
     "output_type": "execute_result",
     "data": {
      "text/plain": [
       "Index(['2.2 - Estrutura detalhada da CNAE 2.0: Códigos e denominações',\n",
       "       'Unnamed: 1', 'Unnamed: 2', 'Unnamed: 3', 'Unnamed: 4'],\n",
       "      dtype='object')"
      ]
     },
     "metadata": {},
     "execution_count": 37
    }
   ],
   "source": [
    "table.columns"
   ]
  },
  {
   "cell_type": "code",
   "execution_count": 40,
   "metadata": {},
   "outputs": [
    {
     "output_type": "execute_result",
     "data": {
      "text/plain": [
       "                                                  Seção  Divisão  Grupo  \\\n",
       "0                                                   NaN      NaN    NaN   \n",
       "1                                                 Seção  Divisão  Grupo   \n",
       "2                                                     A      NaN    NaN   \n",
       "3                                                   NaN       01    NaN   \n",
       "4                                                   NaN      NaN   01.1   \n",
       "...                                                 ...      ...    ...   \n",
       "1143                                                NaN       99    NaN   \n",
       "1144                                                NaN      NaN   99.0   \n",
       "1145                                                NaN      NaN    NaN   \n",
       "1146                                                NaN      NaN    NaN   \n",
       "1147  Resoluções Concla: 01/2006 de 04/09/2006; 02/2...      NaN    NaN   \n",
       "\n",
       "       Classe                                        Denominação  \n",
       "0         NaN                                         (continua)  \n",
       "1      Classe                                        Denominação  \n",
       "2         NaN  AGRICULTURA, PECUÁRIA, PRODUÇÃO FLORESTAL, PES...  \n",
       "3         NaN      AGRICULTURA, PECUÁRIA E SERVIÇOS RELACIONADOS  \n",
       "4         NaN                   Produção de lavouras temporárias  \n",
       "...       ...                                                ...  \n",
       "1143      NaN  ORGANISMOS INTERNACIONAIS E OUTRAS INSTITUIÇÕE...  \n",
       "1144      NaN  Organismos internacionais e outras instituiçõe...  \n",
       "1145  99.00-8  Organismos internacionais e outras instituiçõe...  \n",
       "1146      NaN                                                NaN  \n",
       "1147      NaN                                                NaN  \n",
       "\n",
       "[1148 rows x 5 columns]"
      ],
      "text/html": "<div>\n<style scoped>\n    .dataframe tbody tr th:only-of-type {\n        vertical-align: middle;\n    }\n\n    .dataframe tbody tr th {\n        vertical-align: top;\n    }\n\n    .dataframe thead th {\n        text-align: right;\n    }\n</style>\n<table border=\"1\" class=\"dataframe\">\n  <thead>\n    <tr style=\"text-align: right;\">\n      <th></th>\n      <th>Seção</th>\n      <th>Divisão</th>\n      <th>Grupo</th>\n      <th>Classe</th>\n      <th>Denominação</th>\n    </tr>\n  </thead>\n  <tbody>\n    <tr>\n      <th>0</th>\n      <td>NaN</td>\n      <td>NaN</td>\n      <td>NaN</td>\n      <td>NaN</td>\n      <td>(continua)</td>\n    </tr>\n    <tr>\n      <th>1</th>\n      <td>Seção</td>\n      <td>Divisão</td>\n      <td>Grupo</td>\n      <td>Classe</td>\n      <td>Denominação</td>\n    </tr>\n    <tr>\n      <th>2</th>\n      <td>A</td>\n      <td>NaN</td>\n      <td>NaN</td>\n      <td>NaN</td>\n      <td>AGRICULTURA, PECUÁRIA, PRODUÇÃO FLORESTAL, PES...</td>\n    </tr>\n    <tr>\n      <th>3</th>\n      <td>NaN</td>\n      <td>01</td>\n      <td>NaN</td>\n      <td>NaN</td>\n      <td>AGRICULTURA, PECUÁRIA E SERVIÇOS RELACIONADOS</td>\n    </tr>\n    <tr>\n      <th>4</th>\n      <td>NaN</td>\n      <td>NaN</td>\n      <td>01.1</td>\n      <td>NaN</td>\n      <td>Produção de lavouras temporárias</td>\n    </tr>\n    <tr>\n      <th>...</th>\n      <td>...</td>\n      <td>...</td>\n      <td>...</td>\n      <td>...</td>\n      <td>...</td>\n    </tr>\n    <tr>\n      <th>1143</th>\n      <td>NaN</td>\n      <td>99</td>\n      <td>NaN</td>\n      <td>NaN</td>\n      <td>ORGANISMOS INTERNACIONAIS E OUTRAS INSTITUIÇÕE...</td>\n    </tr>\n    <tr>\n      <th>1144</th>\n      <td>NaN</td>\n      <td>NaN</td>\n      <td>99.0</td>\n      <td>NaN</td>\n      <td>Organismos internacionais e outras instituiçõe...</td>\n    </tr>\n    <tr>\n      <th>1145</th>\n      <td>NaN</td>\n      <td>NaN</td>\n      <td>NaN</td>\n      <td>99.00-8</td>\n      <td>Organismos internacionais e outras instituiçõe...</td>\n    </tr>\n    <tr>\n      <th>1146</th>\n      <td>NaN</td>\n      <td>NaN</td>\n      <td>NaN</td>\n      <td>NaN</td>\n      <td>NaN</td>\n    </tr>\n    <tr>\n      <th>1147</th>\n      <td>Resoluções Concla: 01/2006 de 04/09/2006; 02/2...</td>\n      <td>NaN</td>\n      <td>NaN</td>\n      <td>NaN</td>\n      <td>NaN</td>\n    </tr>\n  </tbody>\n</table>\n<p>1148 rows × 5 columns</p>\n</div>"
     },
     "metadata": {},
     "execution_count": 40
    }
   ],
   "source": [
    "table.columns=['Seção','Divisão','Grupo','Classe','Denominação']\n",
    "table"
   ]
  },
  {
   "source": [
    "## Criar Dicionário"
   ],
   "cell_type": "markdown",
   "metadata": {}
  },
  {
   "source": [
    "Cuidados ao criar o dicionário\n",
    "\n",
    "Remove linhas:\n",
    "\n",
    "- Branco NaN\tNaN\tNaN\tNaN\t(continua)\n",
    "- Headers Seção\tDivisão\tGrupo\tClasse\tDenominação\n",
    "- Última Linha Resoluções Concla: 01/2006 de 04/09/2006; 02/2...\tNaN\tNaN\tNaN\tNaN\n",
    "\n",
    "Adiciona as chaves e subchaves"
   ],
   "cell_type": "markdown",
   "metadata": {}
  },
  {
   "cell_type": "code",
   "execution_count": 155,
   "metadata": {
    "tags": []
   },
   "outputs": [],
   "source": [
    "dictCnae={}\n",
    "for index, row in table.iterrows():\n",
    "    # print(index)\n",
    "    # print(row)\n",
    "    # print(row[0])\n",
    "    # print(row[1])\n",
    "    # print(row[2])\n",
    "    # print(row[3])\n",
    "    # print(row[4])\n",
    "    # print(type(row[4]))\n",
    "    # if pd.isnull(row[0]):\n",
    "    #     print('Found nan is null')        \n",
    "    if isinstance(row[0],str):#Busca a seção\n",
    "        if len(row[0])==1:\n",
    "            # print(f'Encontrou Seção {row[0]}')\n",
    "            secao=row[0]\n",
    "    if isinstance(row[1],str):#Busca a Divisão\n",
    "        if len(row[1])==2:\n",
    "            # print(f'Encontrou Divisão {row[1]}')\n",
    "            divisao=row[1]\n",
    "    if isinstance(row[2],str):#Busca Grupo\n",
    "        if len(row[2])==4:\n",
    "            # print(f'Encontrou Grupo {row[2]}')\n",
    "            grupo=row[2]\n",
    "    if isinstance(row[3],str):#Busca Classe\n",
    "        if len(row[3])==7:\n",
    "            # print(f'Encontrou Classe {row[3]}')\n",
    "            dictCnae[row[3]]={'Denominaçao':row[4].lower().replace('\\\"', '\\\\\"'),'Seçao':secao,'Divisão':divisao,'Grupo':grupo}\n",
    "            # print(dictCnae[row[3]])\n",
    "            # print(dictCnae)"
   ]
  },
  {
   "cell_type": "code",
   "execution_count": 156,
   "metadata": {},
   "outputs": [],
   "source": [
    "dfCnae=pd.DataFrame.from_dict(dictCnae,orient='index')"
   ]
  },
  {
   "cell_type": "code",
   "execution_count": 140,
   "metadata": {},
   "outputs": [
    {
     "output_type": "execute_result",
     "data": {
      "text/plain": [
       "                                               Denominaçao Seçao Divisão Grupo\n",
       "01.11-3                                 cultivo de cereais     A      01  01.1\n",
       "01.12-1  cultivo de algodão herbáceo e de outras fibras...     A      01  01.1\n",
       "01.13-0                          cultivo de cana-de-açúcar     A      01  01.1\n",
       "01.14-8                                    cultivo de fumo     A      01  01.1\n",
       "01.15-6                                    cultivo de soja     A      01  01.1\n",
       "...                                                    ...   ...     ...   ...\n",
       "96.02-5  cabeleireiros e outras atividades de tratament...     S      96  96.0\n",
       "96.03-3      atividades funerárias e serviços relacionados     S      96  96.0\n",
       "96.09-2  atividades de serviços pessoais não especifica...     S      96  96.0\n",
       "97.00-5                                serviços domésticos     T      97  97.0\n",
       "99.00-8  organismos internacionais e outras instituiçõe...     U      99  99.0\n",
       "\n",
       "[673 rows x 4 columns]"
      ],
      "text/html": "<div>\n<style scoped>\n    .dataframe tbody tr th:only-of-type {\n        vertical-align: middle;\n    }\n\n    .dataframe tbody tr th {\n        vertical-align: top;\n    }\n\n    .dataframe thead th {\n        text-align: right;\n    }\n</style>\n<table border=\"1\" class=\"dataframe\">\n  <thead>\n    <tr style=\"text-align: right;\">\n      <th></th>\n      <th>Denominaçao</th>\n      <th>Seçao</th>\n      <th>Divisão</th>\n      <th>Grupo</th>\n    </tr>\n  </thead>\n  <tbody>\n    <tr>\n      <th>01.11-3</th>\n      <td>cultivo de cereais</td>\n      <td>A</td>\n      <td>01</td>\n      <td>01.1</td>\n    </tr>\n    <tr>\n      <th>01.12-1</th>\n      <td>cultivo de algodão herbáceo e de outras fibras...</td>\n      <td>A</td>\n      <td>01</td>\n      <td>01.1</td>\n    </tr>\n    <tr>\n      <th>01.13-0</th>\n      <td>cultivo de cana-de-açúcar</td>\n      <td>A</td>\n      <td>01</td>\n      <td>01.1</td>\n    </tr>\n    <tr>\n      <th>01.14-8</th>\n      <td>cultivo de fumo</td>\n      <td>A</td>\n      <td>01</td>\n      <td>01.1</td>\n    </tr>\n    <tr>\n      <th>01.15-6</th>\n      <td>cultivo de soja</td>\n      <td>A</td>\n      <td>01</td>\n      <td>01.1</td>\n    </tr>\n    <tr>\n      <th>...</th>\n      <td>...</td>\n      <td>...</td>\n      <td>...</td>\n      <td>...</td>\n    </tr>\n    <tr>\n      <th>96.02-5</th>\n      <td>cabeleireiros e outras atividades de tratament...</td>\n      <td>S</td>\n      <td>96</td>\n      <td>96.0</td>\n    </tr>\n    <tr>\n      <th>96.03-3</th>\n      <td>atividades funerárias e serviços relacionados</td>\n      <td>S</td>\n      <td>96</td>\n      <td>96.0</td>\n    </tr>\n    <tr>\n      <th>96.09-2</th>\n      <td>atividades de serviços pessoais não especifica...</td>\n      <td>S</td>\n      <td>96</td>\n      <td>96.0</td>\n    </tr>\n    <tr>\n      <th>97.00-5</th>\n      <td>serviços domésticos</td>\n      <td>T</td>\n      <td>97</td>\n      <td>97.0</td>\n    </tr>\n    <tr>\n      <th>99.00-8</th>\n      <td>organismos internacionais e outras instituiçõe...</td>\n      <td>U</td>\n      <td>99</td>\n      <td>99.0</td>\n    </tr>\n  </tbody>\n</table>\n<p>673 rows × 4 columns</p>\n</div>"
     },
     "metadata": {},
     "execution_count": 140
    }
   ],
   "source": [
    "dfCnae"
   ]
  },
  {
   "source": [
    "## Export to CSV"
   ],
   "cell_type": "markdown",
   "metadata": {}
  },
  {
   "cell_type": "code",
   "execution_count": 157,
   "metadata": {},
   "outputs": [],
   "source": [
    "dfCnae.to_csv(os.path.join(pathDadosProcessados,\"cnae\",\"ibge\",\"dfCnae.csv\"),encoding='utf-8')"
   ]
  },
  {
   "source": [
    "### Export as json"
   ],
   "cell_type": "markdown",
   "metadata": {}
  },
  {
   "cell_type": "code",
   "execution_count": 122,
   "metadata": {},
   "outputs": [],
   "source": [
    "exportToJson(dictCnae,os.path.join(pathDadosProcessados,\"cnae\",\"ibge\",\"dictCnae.json\"))"
   ]
  }
 ]
}